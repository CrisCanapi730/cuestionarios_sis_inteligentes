{
 "cells": [
  {
   "cell_type": "markdown",
   "id": "a765493e-a500-4bef-8b4f-9c329b40f2ac",
   "metadata": {},
   "source": [
    "# Analisis exploratorio de Datos\n",
    "\n",
    "1. **Análisis exploratorio de datos (AED)**: El AED es un enfoque para analizar conjuntos de datos con el fin de resumir sus características principales, a menudo con métodos visuales. Un modelo estadístico puede o no ser utilizado, pero principalmente el AED se ve como un conjunto de técnicas para entender los datos. Durante un AED, se debe contemplar lo siguiente:\n",
    "    - Identificar las características clave y las tendencias en los datos.\n",
    "    - Identificar outliers o anomalías.\n",
    "    - Probar una hipótesis.\n",
    "    - Verificar supuestos.\n",
    "    - Preparar el terreno para el modelado de datos y otras aplicaciones de estadísticas.\n",
    "\n",
    "2. **Análisis univariable**: Es el análisis de una sola variable. Su objetivo principal es describir, resumir y encontrar patrones en los datos¹.\n",
    "\n",
    "3. **Análisis de tendencia central**: Se refiere a la medida que intenta describir un conjunto de datos proporcionando un valor \"central\" para el conjunto de datos. Las métricas más comunes son la media (el promedio), la mediana (el valor medio) y la moda (el valor más común)⁹.\n",
    "\n",
    "4. **Sesgo**: En términos generales, el sesgo se refiere a cualquier tipo de distorsión sistemática en la forma en que pensamos y actuamos. En otras palabras, es una inclinación o tendencia inconsciente que afecta nuestro proceso de razonamiento y nuestra forma de actuar²². Existen varios tipos de sesgos, como el sesgo de confirmación, el sesgo de autocomplacencia, el error de atribución fundamental, entre otros²⁵.\n",
    "\n",
    "5. **Curtosis**: La curtosis o kurtosis es un parámetro estadístico que sirve para caracterizar la distribución de probabilidad de una variable aleatoria, indicando el grado de concentración de los valores alrededor de la medida central¹⁴. Existen tres tipos principales de curtosis: mesocúrtica, leptocúrtica y platicúrtica¹⁵. La curtosis y el sesgo son medidas de forma de una serie de datos a los cuales se les ajusta una distribución de probabilidad⁴¹.\n",
    "\n",
    "6. **Análisis multivariable**: El análisis multivariable es una técnica que se utiliza para analizar múltiples variables simultáneamente. Su objetivo es encontrar patrones, relaciones y asociaciones entre las variables³³.\n",
    "\n"
   ]
  },
  {
   "cell_type": "code",
   "execution_count": null,
   "id": "1ae0ff5e-b0ba-46a6-b53a-a36e170409e9",
   "metadata": {},
   "outputs": [],
   "source": []
  }
 ],
 "metadata": {
  "kernelspec": {
   "display_name": "Python 3 (ipykernel)",
   "language": "python",
   "name": "python3"
  },
  "language_info": {
   "codemirror_mode": {
    "name": "ipython",
    "version": 3
   },
   "file_extension": ".py",
   "mimetype": "text/x-python",
   "name": "python",
   "nbconvert_exporter": "python",
   "pygments_lexer": "ipython3",
   "version": "3.11.5"
  }
 },
 "nbformat": 4,
 "nbformat_minor": 5
}
