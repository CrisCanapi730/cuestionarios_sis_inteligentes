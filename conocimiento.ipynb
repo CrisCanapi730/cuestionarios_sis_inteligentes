{
 "cells": [
  {
   "cell_type": "markdown",
   "id": "53aee38f-5384-4293-a836-3da00b122b97",
   "metadata": {},
   "source": [
    "# Cuestionario Sistemas Basados en Conocimiento\n",
    "\n",
    "1. Ejemplos de SBC en uso hoy en día:\n",
    "    - **Sistemas de diagnóstico médico**: Estos sistemas utilizan el conocimiento de los síntomas y enfermedades para ayudar a los médicos a diagnosticar a los pacientes.\n",
    "    - **Sistemas de recomendación**: Estos sistemas, como los utilizados por Amazon o Netflix, utilizan el conocimiento de las preferencias del usuario y los patrones de comportamiento para recomendar productos o películas.\n",
    "    - **Sistemas de asistencia al conductor**: Estos sistemas utilizan el conocimiento de las condiciones de la carretera y el comportamiento del conductor para proporcionar asistencia al conductor, como alertas de colisión o asistencia de mantenimiento de carril.\n",
    "\n",
    "2. La funcionalidad principal de un SBC es utilizar el conocimiento almacenado para resolver problemas que normalmente requerirían la experiencia de un humano. Esto se hace a través de un proceso de razonamiento que interpreta los datos de entrada y utiliza el conocimiento almacenado para llegar a una conclusión.\n",
    "\n",
    "3. Ventajas de los SBC:\n",
    "    - Pueden proporcionar soluciones consistentes.\n",
    "    - Pueden trabajar 24/7 sin fatiga.\n",
    "    - Pueden almacenar y utilizar una gran cantidad de conocimientos.\n",
    "\n",
    "   Desventajas de los SBC:\n",
    "    - Pueden ser costosos y difíciles de desarrollar y mantener.\n",
    "    - Pueden tener dificultades para manejar situaciones que no se anticiparon durante su desarrollo.\n",
    "    - Pueden ser vistos como una \"caja negra\" si no proporcionan explicaciones claras de cómo llegaron a sus conclusiones.\n",
    "\n",
    "4. Los SBC son convenientes para implementar en situaciones donde se necesita la experiencia de un experto, pero no es práctico o posible tener un experto humano disponible todo el tiempo. Esto puede incluir diagnósticos médicos en áreas rurales, asistencia al conductor en vehículos, o recomendaciones de productos en sitios web de comercio electrónico.\n",
    "\n",
    "5. Existen varios tipos de SBC, incluyendo sistemas basados en reglas, sistemas de razonamiento basado en casos, sistemas de redes neuronales, y sistemas de lógica difusa, entre otros. Cada uno tiene sus propias fortalezas y debilidades y es adecuado para diferentes tipos de problemas."
   ]
  },
  {
   "cell_type": "code",
   "execution_count": null,
   "id": "d131c7b1-f567-4166-b5c6-b3e76195d12e",
   "metadata": {},
   "outputs": [],
   "source": []
  }
 ],
 "metadata": {
  "kernelspec": {
   "display_name": "Python 3 (ipykernel)",
   "language": "python",
   "name": "python3"
  },
  "language_info": {
   "codemirror_mode": {
    "name": "ipython",
    "version": 3
   },
   "file_extension": ".py",
   "mimetype": "text/x-python",
   "name": "python",
   "nbconvert_exporter": "python",
   "pygments_lexer": "ipython3",
   "version": "3.11.5"
  }
 },
 "nbformat": 4,
 "nbformat_minor": 5
}
