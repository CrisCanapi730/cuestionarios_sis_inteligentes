{
 "cells": [
  {
   "cell_type": "markdown",
   "id": "322a4a91-e450-4149-833a-b0bd64bd4784",
   "metadata": {},
   "source": [
    "# Probabilidades \n",
    "\n",
    "1. Si lanzas un dado justo, ¿cuál es la probabilidad de que el resultado sea par?\n",
    "   Un dado tiene 6 caras y 3 de ellas son pares (2, 4, 6). Por lo tanto, la probabilidad de que el resultado sea par es $$\\frac{3}{6} = \\frac{1}{2}$$.\n",
    "\n",
    "2. Si lanzas dos dados justos, ¿cuál es la probabilidad de que la suma sea mayor que 10?\n",
    "   Las únicas formas de obtener una suma mayor que 10 son (5,6), (6,5), y (6,6). Eso son 3 posibles resultados de un total de 36 posibles combinaciones (6 caras del primer dado * 6 caras del segundo dado). Por lo tanto, la probabilidad es $$\\frac{3}{36} = \\frac{1}{12}$$.\n",
    "\n",
    "3. Si lanzas un dado y obtuviste un número impar, ¿cuál es la probabilidad de que ese número sea 5?\n",
    "   Si ya sabemos que el número es impar, entonces solo puede ser 1, 3, o 5. Por lo tanto, la probabilidad de que ese número sea 5 es $$\\frac{1}{3}$$.\n",
    "\n",
    "4. Si lanzas un dado y obtuviste un número par, ¿cuál es la probabilidad de que ese número sea 5?\n",
    "   Si ya sabemos que el número es par, entonces no puede ser 5, porque 5 es un número impar. Por lo tanto, la probabilidad de que ese número sea 5 es 0.\n",
    "\n",
    "5. Si lanzas dos dados justos, ¿cuál es la probabilidad de que la suma de los dos dados sea 9, sabiendo que uno de los dos dados es 3?\n",
    "   Si uno de los dados es 3, entonces el otro dado debe ser 6 para que la suma sea 9. Hay 2 formas en que esto puede suceder: (3,6) y (6,3). Como hay 11 posibles resultados cuando uno de los dados es 3 (el otro dado puede ser cualquier número del 1 al 6, y viceversa), la probabilidad es $$\\frac{2}{11}$$."
   ]
  },
  {
   "cell_type": "code",
   "execution_count": null,
   "id": "4d9f8a2f-9c82-447c-868c-62a55e8637d4",
   "metadata": {},
   "outputs": [],
   "source": []
  }
 ],
 "metadata": {
  "kernelspec": {
   "display_name": "Python 3 (ipykernel)",
   "language": "python",
   "name": "python3"
  },
  "language_info": {
   "codemirror_mode": {
    "name": "ipython",
    "version": 3
   },
   "file_extension": ".py",
   "mimetype": "text/x-python",
   "name": "python",
   "nbconvert_exporter": "python",
   "pygments_lexer": "ipython3",
   "version": "3.11.5"
  }
 },
 "nbformat": 4,
 "nbformat_minor": 5
}
